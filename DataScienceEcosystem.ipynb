{
 "cells": [
  {
   "cell_type": "markdown",
   "id": "c666f25c-489c-4e1c-ba8e-3c0002ef26fa",
   "metadata": {},
   "source": [
    "# Data Science Tools and Ecosystem"
   ]
  },
  {
   "cell_type": "markdown",
   "id": "2393165c-ab6f-4c2d-ab1e-8cfd8df92427",
   "metadata": {},
   "source": [
    "In this notebook, Data Science Tools and Ecosystem are summarized."
   ]
  },
  {
   "cell_type": "markdown",
   "id": "a05a53f5-b782-4bf9-b2e9-f9a80abe49c5",
   "metadata": {},
   "source": [
    "Some of the popular languages that Data Scientists use are:"
   ]
  },
  {
   "cell_type": "markdown",
   "id": "01fd863a-39ee-4d37-b6b8-c75432541b7b",
   "metadata": {},
   "source": [
    "1. Python\n",
    "2. Java\n",
    "3. C++"
   ]
  },
  {
   "cell_type": "markdown",
   "id": "8a842765-d8c7-4613-a002-2b07d3fed1ad",
   "metadata": {},
   "source": [
    "Some of the commonly used libraries used by Data Scientists include:"
   ]
  },
  {
   "cell_type": "markdown",
   "id": "7af261a9-bb87-4efd-8c8c-c467175ac65f",
   "metadata": {},
   "source": [
    "1. NumPy\n",
    "2. Pandas\n",
    "3. matplotlib"
   ]
  },
  {
   "cell_type": "markdown",
   "id": "524882d6-34d4-433d-90fe-89956db7d8a4",
   "metadata": {},
   "source": [
    "|Data Science Tools|\n",
    "|------------------|\n",
    "|jupyter notebook|\n",
    "|google collab|\n",
    "|R studio|\n",
    "\n",
    "\n"
   ]
  },
  {
   "cell_type": "markdown",
   "id": "6e8b0626-3240-4290-b3b1-8e7ded529cf2",
   "metadata": {},
   "source": [
    "### Below are a few examples of evaluating arithmetic expressions in Python"
   ]
  },
  {
   "cell_type": "markdown",
   "id": "5dea4de0-cb7a-4afd-aca7-3a241c8359cb",
   "metadata": {},
   "source": [
    "##### This a simple arithmetic expression to mutiply then add integers"
   ]
  },
  {
   "cell_type": "code",
   "execution_count": 24,
   "id": "4cb0c53e-4341-48b6-81c0-dd9e9d0eae0d",
   "metadata": {},
   "outputs": [
    {
     "data": {
      "text/plain": [
       "17"
      ]
     },
     "execution_count": 24,
     "metadata": {},
     "output_type": "execute_result"
    }
   ],
   "source": [
    "(3*4)+5"
   ]
  },
  {
   "cell_type": "markdown",
   "id": "303d7c54-542b-4be5-ad55-c5f43ebfa8a6",
   "metadata": {},
   "source": [
    "##### This will convert 200 minutes to hours by diving by 60"
   ]
  },
  {
   "cell_type": "code",
   "execution_count": 48,
   "id": "150821b1-9b35-42bc-8c8c-09157a8b3966",
   "metadata": {},
   "outputs": [],
   "source": [
    "x=200"
   ]
  },
  {
   "cell_type": "code",
   "execution_count": 50,
   "id": "0b1168b5-997d-4cef-a68a-5093b95769e1",
   "metadata": {},
   "outputs": [
    {
     "data": {
      "text/plain": [
       "3.3333333333333335"
      ]
     },
     "execution_count": 50,
     "metadata": {},
     "output_type": "execute_result"
    }
   ],
   "source": [
    "x/60"
   ]
  },
  {
   "cell_type": "markdown",
   "id": "41cdf65f-72c6-4666-b827-70096a952775",
   "metadata": {},
   "source": [
    "***Objectives:***"
   ]
  },
  {
   "cell_type": "markdown",
   "id": "ed69a934-1080-41c5-bc93-33d4591413dd",
   "metadata": {},
   "source": [
    "* Listed common libraries used for data science \n",
    "* Listed common programming languages used in data science\n",
    "* Lised common open source or free to use data science tools\n",
    "* Perfomed simple arithmatic and algebraic equations"
   ]
  },
  {
   "cell_type": "markdown",
   "id": "949ef9e4-9f82-4a83-8986-94e525475bd9",
   "metadata": {},
   "source": [
    "## Author"
   ]
  },
  {
   "cell_type": "markdown",
   "id": "3d9d588f-afde-4010-820e-636bcc9fcdd2",
   "metadata": {},
   "source": [
    "John Giblin"
   ]
  },
  {
   "cell_type": "code",
   "execution_count": null,
   "id": "4e7355da-66f3-4caa-afab-8f0e95c308b1",
   "metadata": {},
   "outputs": [],
   "source": []
  }
 ],
 "metadata": {
  "kernelspec": {
   "display_name": "Python [conda env:base] *",
   "language": "python",
   "name": "conda-base-py"
  },
  "language_info": {
   "codemirror_mode": {
    "name": "ipython",
    "version": 3
   },
   "file_extension": ".py",
   "mimetype": "text/x-python",
   "name": "python",
   "nbconvert_exporter": "python",
   "pygments_lexer": "ipython3",
   "version": "3.12.7"
  }
 },
 "nbformat": 4,
 "nbformat_minor": 5
}
